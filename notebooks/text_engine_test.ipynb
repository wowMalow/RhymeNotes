{
 "cells": [
  {
   "cell_type": "markdown",
   "id": "18b88932-2855-4377-a591-894ff0f0b9f1",
   "metadata": {},
   "source": [
    "# Text engine for rhymes generator"
   ]
  },
  {
   "cell_type": "code",
   "execution_count": 77,
   "id": "32a6d126-a9d0-4acf-b376-c6826aca65fb",
   "metadata": {},
   "outputs": [],
   "source": [
    "import re\n",
    "import json\n",
    "from typing import Callable"
   ]
  },
  {
   "cell_type": "markdown",
   "id": "269ee964-7abe-4b18-87a3-7c3cef231c7d",
   "metadata": {},
   "source": [
    "## Load vocabulary from internet and prepare for usage"
   ]
  },
  {
   "cell_type": "code",
   "execution_count": 2,
   "id": "8e85e741-625e-41fb-9764-5d2848387647",
   "metadata": {},
   "outputs": [],
   "source": [
    "def upper_repl(match):\n",
    "        return match.group(1).upper()\n",
    "    \n",
    "def upperAccents(text):   \n",
    "    removed_dash = re.sub(r'-', '', text)\n",
    "    return re.sub(r'\\^(\\w)', upper_repl, text)"
   ]
  },
  {
   "cell_type": "code",
   "execution_count": 3,
   "id": "dd362db2-7eac-4abd-a0b6-e79d9654e108",
   "metadata": {},
   "outputs": [],
   "source": [
    "with open('all_accents.tsv', 'r', encoding='utf-8') as file:\n",
    "    transformed_text = upperAccents(file.read())\n",
    "    raw_vocabulary = transformed_text.split('\\n')\n",
    "# raw_vocabulary = {word: accent for word, accent in [raw_line.split('\\t') for raw_line in raw_vocabulary]}"
   ]
  },
  {
   "cell_type": "code",
   "execution_count": 4,
   "id": "58b8f9aa-2178-4899-af8c-c1212e788e43",
   "metadata": {},
   "outputs": [],
   "source": [
    "accents = {}\n",
    "for pair in raw_vocabulary:\n",
    "    if len(words := pair.split('\\t')) == 2:\n",
    "        accents[words[0]] = words[1]"
   ]
  },
  {
   "cell_type": "code",
   "execution_count": 79,
   "id": "948a5bf2-454c-452b-b893-6bb5b2bdd263",
   "metadata": {},
   "outputs": [],
   "source": [
    "#save\n",
    "with open('accents.json', 'w', encoding='utf-8') as file:\n",
    "    accents = json.dump(accents, file)\n",
    "\n",
    "#load\n",
    "with open('accents.json', 'r', encoding='utf-8') as file:\n",
    "    accents = json.load(file)"
   ]
  },
  {
   "cell_type": "markdown",
   "id": "d18124af-cb4f-4036-aab2-8b89f25bfca9",
   "metadata": {},
   "source": [
    "## Apply acccents on text"
   ]
  },
  {
   "cell_type": "code",
   "execution_count": 52,
   "id": "5d0fae58-14c3-4e55-8757-8aaae36aa712",
   "metadata": {},
   "outputs": [],
   "source": [
    "def tokenizer(text: str):\n",
    "    cleaned = re.sub(r'[.,:;!?`\\^]', '', text.lower())\n",
    "    cleaned_dash = re.sub(r'-', ' ', cleaned)\n",
    "    replace_n = re.sub(r'\\n', ' $ ', cleaned_dash)\n",
    "    return replace_n.split()\n",
    "\n",
    "def apply_accents(text: str, accents: dict, tokenizer: Callable) -> str:\n",
    "    words = tokenizer(text)\n",
    "    accented_words = []\n",
    "    for word in words:\n",
    "        word = re.sub(r'ё', 'Ё', word)\n",
    "        accented_word = accents.get(word, word)\n",
    "        accented_words.append(accented_word)\n",
    "    \n",
    "    return ' '.join(accented_words)\n",
    "    "
   ]
  },
  {
   "cell_type": "code",
   "execution_count": 55,
   "id": "02ceb875-f25f-4a61-a4e0-6a9d8a8e8d71",
   "metadata": {},
   "outputs": [],
   "source": [
    "text = '''оставить след в душе оксаны\n",
    "олег хотел но попадал\n",
    "то в след аркадия глубокий\n",
    "то в глеба юркие следы\n",
    "'''"
   ]
  },
  {
   "cell_type": "code",
   "execution_count": 56,
   "id": "2ed49eae-290c-4399-94c0-c07cc0cb802d",
   "metadata": {
    "tags": []
   },
   "outputs": [
    {
     "data": {
      "text/plain": [
       "'остАвить слЕд в душЕ оксАны $ Олег хотЕл нО попадАл $ тО в слЕд аркАдия глубОкий $ тО в глЕба Юркие следЫ $'"
      ]
     },
     "execution_count": 56,
     "metadata": {},
     "output_type": "execute_result"
    }
   ],
   "source": [
    "accented_text = apply_accents(text, accents, tokenizer)\n",
    "accented_text"
   ]
  },
  {
   "cell_type": "code",
   "execution_count": null,
   "id": "dc1b4449-5f6c-40dc-a617-a0c683780df1",
   "metadata": {},
   "outputs": [],
   "source": []
  },
  {
   "cell_type": "code",
   "execution_count": null,
   "id": "af998ccc-3718-431e-b0a4-9b9495a1baa1",
   "metadata": {},
   "outputs": [],
   "source": []
  },
  {
   "cell_type": "markdown",
   "id": "2d22935f-9727-4636-9eb8-d2f932128a6c",
   "metadata": {},
   "source": [
    "## Turn words into rythmical pattern"
   ]
  },
  {
   "cell_type": "code",
   "execution_count": 61,
   "id": "279808bf-2393-44ab-abcb-8ce20ae048e7",
   "metadata": {},
   "outputs": [],
   "source": [
    "def replaceVowels(text):\n",
    "    accent_symbol = 'V'\n",
    "    nonaccent_symbol = '-'\n",
    "    vowels = 'ёуеэоаыяию'\n",
    "    only_vowels = re.sub(rf'[^{vowels}{vowels.upper()}$]', '', text)\n",
    "    change_accents = re.sub(rf'[{vowels.upper()}]', accent_symbol, only_vowels)\n",
    "    change_nonaccents = re.sub(rf'[{vowels}]', nonaccent_symbol, change_accents)\n",
    "    \n",
    "    return change_nonaccents\n",
    "    \n",
    "\n",
    "def getRythmicalPattern(text, accents, tokenizer):\n",
    "    accented_text = apply_accents(text, accents, tokenizer)\n",
    "    pattern = replaceVowels(accented_text)\n",
    "    return pattern\n",
    "    "
   ]
  },
  {
   "cell_type": "code",
   "execution_count": 74,
   "id": "f42775d3-e3a3-4ad5-bfa7-b265a0b4dc6e",
   "metadata": {},
   "outputs": [],
   "source": [
    "text = '''Идёт направо — песнь заводит,\n",
    "Налево — сказку говорит.\n",
    "Там чудеса: там леший бродит,\n",
    "Русалка на ветвях сидит;\n",
    "Там на неведомых дорожках\n",
    "Следы невиданных зверей;\n",
    "Избушка там на курьих ножках\n",
    "Стоит без окон, без дверей;\n",
    "'''"
   ]
  },
  {
   "cell_type": "code",
   "execution_count": 75,
   "id": "94d0e18d-e5ff-4f3e-b32f-07980a2c8fab",
   "metadata": {},
   "outputs": [
    {
     "data": {
      "text/plain": [
       "'идЁт напрАво — пЕснь завОдит $ налЕво — скАзку говорИт $ тАм чудесА тАм лЕший брОдит $ русАлка нА ветвЯх сидИт $ тАм нА невЕдомых дорОжках $ следЫ невИданных зверЕй $ избУшка тАм нА кУрьих нОжках $ стоИт бЕз Окон бЕз дверЕй $'"
      ]
     },
     "execution_count": 75,
     "metadata": {},
     "output_type": "execute_result"
    }
   ],
   "source": [
    "apply_accents(text, accents, tokenizer)"
   ]
  },
  {
   "cell_type": "code",
   "execution_count": 76,
   "id": "a79f9993-98a4-4991-a77f-b5ad79125f0b",
   "metadata": {},
   "outputs": [
    {
     "name": "stdout",
     "output_type": "stream",
     "text": [
      "-V-V-V-V-\n",
      "-V-V---V\n",
      "V--VVV-V-\n",
      "-V-V-V-V\n",
      "VV-V---V-\n",
      "-V-V---V\n",
      "-V-VVV-V-\n",
      "-VVV-V-V\n",
      "\n"
     ]
    }
   ],
   "source": [
    "for line in getRythmicalPattern(text, accents, tokenizer).split('$'):\n",
    "    print(line)"
   ]
  },
  {
   "cell_type": "code",
   "execution_count": null,
   "id": "ca7039fb-d449-491e-bafb-539957788476",
   "metadata": {},
   "outputs": [],
   "source": []
  },
  {
   "cell_type": "code",
   "execution_count": null,
   "id": "ad0a81aa-c200-4919-b454-972baf3aeb21",
   "metadata": {},
   "outputs": [],
   "source": []
  }
 ],
 "metadata": {
  "kernelspec": {
   "display_name": "Python 3 (ipykernel)",
   "language": "python",
   "name": "python3"
  },
  "language_info": {
   "codemirror_mode": {
    "name": "ipython",
    "version": 3
   },
   "file_extension": ".py",
   "mimetype": "text/x-python",
   "name": "python",
   "nbconvert_exporter": "python",
   "pygments_lexer": "ipython3",
   "version": "3.10.4"
  }
 },
 "nbformat": 4,
 "nbformat_minor": 5
}
